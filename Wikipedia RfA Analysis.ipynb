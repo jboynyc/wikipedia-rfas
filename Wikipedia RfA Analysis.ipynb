{
 "cells": [
  {
   "cell_type": "code",
   "execution_count": 2,
   "metadata": {
    "collapsed": false
   },
   "outputs": [
    {
     "name": "stdout",
     "output_type": "stream",
     "text": [
      "Populating the interactive namespace from numpy and matplotlib\n"
     ]
    }
   ],
   "source": [
    "%pylab inline"
   ]
  },
  {
   "cell_type": "code",
   "execution_count": 3,
   "metadata": {
    "collapsed": true
   },
   "outputs": [],
   "source": [
    "import pandas as pd\n",
    "import seaborn"
   ]
  },
  {
   "cell_type": "code",
   "execution_count": 4,
   "metadata": {
    "collapsed": true
   },
   "outputs": [],
   "source": [
    "def density_plot(dist, ntile=99, **kwargs):\n",
    "    return pd.Series(dist).plot(kind='kde',\n",
    "                                xlim=(min(dist), \n",
    "                                      pd.np.percentile(dist, ntile)),\n",
    "                                **kwargs)"
   ]
  },
  {
   "cell_type": "code",
   "execution_count": 5,
   "metadata": {
    "collapsed": true
   },
   "outputs": [],
   "source": [
    "%run get_archive.py\n",
    "%run get_discussion_users.py\n",
    "%run build_graphs.py"
   ]
  },
  {
   "cell_type": "code",
   "execution_count": 6,
   "metadata": {
    "collapsed": false
   },
   "outputs": [
    {
     "data": {
      "text/plain": [
       "{1: (2004, 2007), 2: (2008, 2010), 3: (2011, 2014)}"
      ]
     },
     "execution_count": 6,
     "metadata": {},
     "output_type": "execute_result"
    }
   ],
   "source": [
    "PERIODS"
   ]
  },
  {
   "cell_type": "markdown",
   "metadata": {},
   "source": [
    "## 2004-2007"
   ]
  },
  {
   "cell_type": "code",
   "execution_count": 7,
   "metadata": {
    "collapsed": false
   },
   "outputs": [
    {
     "data": {
      "text/html": [
       "<div>\n",
       "<table border=\"1\" class=\"dataframe\">\n",
       "  <thead>\n",
       "    <tr style=\"text-align: right;\">\n",
       "      <th></th>\n",
       "      <th>degree</th>\n",
       "      <th>strength</th>\n",
       "      <th>user</th>\n",
       "    </tr>\n",
       "  </thead>\n",
       "  <tbody>\n",
       "    <tr>\n",
       "      <th>4051</th>\n",
       "      <td>5245</td>\n",
       "      <td>59051</td>\n",
       "      <td>Siva1979</td>\n",
       "    </tr>\n",
       "    <tr>\n",
       "      <th>2875</th>\n",
       "      <td>5093</td>\n",
       "      <td>56712</td>\n",
       "      <td>Mailer_diablo</td>\n",
       "    </tr>\n",
       "    <tr>\n",
       "      <th>3911</th>\n",
       "      <td>5547</td>\n",
       "      <td>44372</td>\n",
       "      <td>Xoloz</td>\n",
       "    </tr>\n",
       "    <tr>\n",
       "      <th>4402</th>\n",
       "      <td>4475</td>\n",
       "      <td>40227</td>\n",
       "      <td>Merovingian</td>\n",
       "    </tr>\n",
       "    <tr>\n",
       "      <th>1958</th>\n",
       "      <td>3680</td>\n",
       "      <td>35646</td>\n",
       "      <td>Terence_Ong</td>\n",
       "    </tr>\n",
       "    <tr>\n",
       "      <th>6899</th>\n",
       "      <td>4498</td>\n",
       "      <td>32421</td>\n",
       "      <td>MONGO</td>\n",
       "    </tr>\n",
       "    <tr>\n",
       "      <th>2008</th>\n",
       "      <td>3925</td>\n",
       "      <td>28501</td>\n",
       "      <td>Jaranda</td>\n",
       "    </tr>\n",
       "    <tr>\n",
       "      <th>4498</th>\n",
       "      <td>3282</td>\n",
       "      <td>23266</td>\n",
       "      <td>Acalamari</td>\n",
       "    </tr>\n",
       "    <tr>\n",
       "      <th>3452</th>\n",
       "      <td>3547</td>\n",
       "      <td>23032</td>\n",
       "      <td>Rogerd</td>\n",
       "    </tr>\n",
       "    <tr>\n",
       "      <th>324</th>\n",
       "      <td>3550</td>\n",
       "      <td>23024</td>\n",
       "      <td>Nishkid64</td>\n",
       "    </tr>\n",
       "  </tbody>\n",
       "</table>\n",
       "</div>"
      ],
      "text/plain": [
       "      degree  strength           user\n",
       "4051    5245     59051       Siva1979\n",
       "2875    5093     56712  Mailer_diablo\n",
       "3911    5547     44372          Xoloz\n",
       "4402    4475     40227    Merovingian\n",
       "1958    3680     35646    Terence_Ong\n",
       "6899    4498     32421          MONGO\n",
       "2008    3925     28501        Jaranda\n",
       "4498    3282     23266      Acalamari\n",
       "3452    3547     23032         Rogerd\n",
       "324     3550     23024      Nishkid64"
      ]
     },
     "execution_count": 7,
     "metadata": {},
     "output_type": "execute_result"
    }
   ],
   "source": [
    "pd.DataFrame({'user': graphs[1].vs['label'],\n",
    "              'degree': graphs[1].degree(),\n",
    "              'strength': graphs[1].strength(weights='weight')}).sort('strength', ascending=False).head(10)"
   ]
  },
  {
   "cell_type": "code",
   "execution_count": 8,
   "metadata": {
    "collapsed": false
   },
   "outputs": [
    {
     "data": {
      "text/plain": [
       "<matplotlib.axes._subplots.AxesSubplot at 0x37b995c0>"
      ]
     },
     "execution_count": 8,
     "metadata": {},
     "output_type": "execute_result"
    },
    {
     "data": {
      "image/png": "[encoded data removed]",
      "text/plain": [
       "<matplotlib.figure.Figure at 0x9567ba8>"
      ]
     },
     "metadata": {},
     "output_type": "display_data"
    }
   ],
   "source": [
    "density_plot(graphs[1].strength(weights='weight'))"
   ]
  },
  {
   "cell_type": "markdown",
   "metadata": {},
   "source": [
    "## 2008-2010"
   ]
  },
  {
   "cell_type": "code",
   "execution_count": 9,
   "metadata": {
    "collapsed": false
   },
   "outputs": [
    {
     "data": {
      "text/html": [
       "<div>\n",
       "<table border=\"1\" class=\"dataframe\">\n",
       "  <thead>\n",
       "    <tr style=\"text-align: right;\">\n",
       "      <th></th>\n",
       "      <th>degree</th>\n",
       "      <th>strength</th>\n",
       "      <th>user</th>\n",
       "    </tr>\n",
       "  </thead>\n",
       "  <tbody>\n",
       "    <tr>\n",
       "      <th>2711</th>\n",
       "      <td>4803</td>\n",
       "      <td>42310</td>\n",
       "      <td>Malinaccier</td>\n",
       "    </tr>\n",
       "    <tr>\n",
       "      <th>1019</th>\n",
       "      <td>4217</td>\n",
       "      <td>38567</td>\n",
       "      <td>Juliancolton</td>\n",
       "    </tr>\n",
       "    <tr>\n",
       "      <th>4751</th>\n",
       "      <td>4179</td>\n",
       "      <td>37617</td>\n",
       "      <td>Stifle</td>\n",
       "    </tr>\n",
       "    <tr>\n",
       "      <th>4592</th>\n",
       "      <td>4591</td>\n",
       "      <td>37046</td>\n",
       "      <td>Wisdom89</td>\n",
       "    </tr>\n",
       "    <tr>\n",
       "      <th>1344</th>\n",
       "      <td>4228</td>\n",
       "      <td>35850</td>\n",
       "      <td>Wizardman</td>\n",
       "    </tr>\n",
       "    <tr>\n",
       "      <th>4958</th>\n",
       "      <td>4388</td>\n",
       "      <td>35067</td>\n",
       "      <td>Bearian</td>\n",
       "    </tr>\n",
       "    <tr>\n",
       "      <th>342</th>\n",
       "      <td>3911</td>\n",
       "      <td>32115</td>\n",
       "      <td>Lankiveil</td>\n",
       "    </tr>\n",
       "    <tr>\n",
       "      <th>4848</th>\n",
       "      <td>4252</td>\n",
       "      <td>31670</td>\n",
       "      <td>GlassCobra</td>\n",
       "    </tr>\n",
       "    <tr>\n",
       "      <th>2014</th>\n",
       "      <td>4362</td>\n",
       "      <td>31109</td>\n",
       "      <td>Pedro</td>\n",
       "    </tr>\n",
       "    <tr>\n",
       "      <th>1264</th>\n",
       "      <td>3972</td>\n",
       "      <td>30845</td>\n",
       "      <td>Acalamari</td>\n",
       "    </tr>\n",
       "  </tbody>\n",
       "</table>\n",
       "</div>"
      ],
      "text/plain": [
       "      degree  strength          user\n",
       "2711    4803     42310   Malinaccier\n",
       "1019    4217     38567  Juliancolton\n",
       "4751    4179     37617        Stifle\n",
       "4592    4591     37046      Wisdom89\n",
       "1344    4228     35850     Wizardman\n",
       "4958    4388     35067       Bearian\n",
       "342     3911     32115     Lankiveil\n",
       "4848    4252     31670    GlassCobra\n",
       "2014    4362     31109         Pedro\n",
       "1264    3972     30845     Acalamari"
      ]
     },
     "execution_count": 9,
     "metadata": {},
     "output_type": "execute_result"
    }
   ],
   "source": [
    "pd.DataFrame({'user': graphs[2].vs['label'],\n",
    "              'degree': graphs[2].degree(),\n",
    "              'strength': graphs[2].strength(weights='weight')}).sort('strength', ascending=False).head(10)"
   ]
  },
  {
   "cell_type": "code",
   "execution_count": 10,
   "metadata": {
    "collapsed": false
   },
   "outputs": [
    {
     "data": {
      "text/plain": [
       "<matplotlib.axes._subplots.AxesSubplot at 0x3a778d30>"
      ]
     },
     "execution_count": 10,
     "metadata": {},
     "output_type": "execute_result"
    },
    {
     "data": {
      "image/png": "[encoded data removed]",
      "text/plain": [
       "<matplotlib.figure.Figure at 0x3a787b00>"
      ]
     },
     "metadata": {},
     "output_type": "display_data"
    }
   ],
   "source": [
    "density_plot(graphs[2].strength(weights='weight'))"
   ]
  },
  {
   "cell_type": "markdown",
   "metadata": {},
   "source": [
    "## 2011-2014"
   ]
  },
  {
   "cell_type": "code",
   "execution_count": 11,
   "metadata": {
    "collapsed": false
   },
   "outputs": [
    {
     "data": {
      "text/html": [
       "<div>\n",
       "<table border=\"1\" class=\"dataframe\">\n",
       "  <thead>\n",
       "    <tr style=\"text-align: right;\">\n",
       "      <th></th>\n",
       "      <th>degree</th>\n",
       "      <th>strength</th>\n",
       "      <th>user</th>\n",
       "    </tr>\n",
       "  </thead>\n",
       "  <tbody>\n",
       "    <tr>\n",
       "      <th>2382</th>\n",
       "      <td>2842</td>\n",
       "      <td>21138</td>\n",
       "      <td>Axl</td>\n",
       "    </tr>\n",
       "    <tr>\n",
       "      <th>2341</th>\n",
       "      <td>2946</td>\n",
       "      <td>19362</td>\n",
       "      <td>Ktr101</td>\n",
       "    </tr>\n",
       "    <tr>\n",
       "      <th>2305</th>\n",
       "      <td>2777</td>\n",
       "      <td>19113</td>\n",
       "      <td>Tryptofish</td>\n",
       "    </tr>\n",
       "    <tr>\n",
       "      <th>902</th>\n",
       "      <td>2419</td>\n",
       "      <td>17895</td>\n",
       "      <td>Secret</td>\n",
       "    </tr>\n",
       "    <tr>\n",
       "      <th>1230</th>\n",
       "      <td>2378</td>\n",
       "      <td>17548</td>\n",
       "      <td>Kudpung</td>\n",
       "    </tr>\n",
       "    <tr>\n",
       "      <th>189</th>\n",
       "      <td>2273</td>\n",
       "      <td>15393</td>\n",
       "      <td>Carrite</td>\n",
       "    </tr>\n",
       "    <tr>\n",
       "      <th>1849</th>\n",
       "      <td>2604</td>\n",
       "      <td>15332</td>\n",
       "      <td>Boing!_said_Zebedee</td>\n",
       "    </tr>\n",
       "    <tr>\n",
       "      <th>76</th>\n",
       "      <td>2578</td>\n",
       "      <td>14874</td>\n",
       "      <td>Reaper_Eternal</td>\n",
       "    </tr>\n",
       "    <tr>\n",
       "      <th>746</th>\n",
       "      <td>2383</td>\n",
       "      <td>14688</td>\n",
       "      <td>Wizardman</td>\n",
       "    </tr>\n",
       "    <tr>\n",
       "      <th>2297</th>\n",
       "      <td>2433</td>\n",
       "      <td>14209</td>\n",
       "      <td>Peridon</td>\n",
       "    </tr>\n",
       "  </tbody>\n",
       "</table>\n",
       "</div>"
      ],
      "text/plain": [
       "      degree  strength                 user\n",
       "2382    2842     21138                  Axl\n",
       "2341    2946     19362               Ktr101\n",
       "2305    2777     19113           Tryptofish\n",
       "902     2419     17895               Secret\n",
       "1230    2378     17548              Kudpung\n",
       "189     2273     15393              Carrite\n",
       "1849    2604     15332  Boing!_said_Zebedee\n",
       "76      2578     14874       Reaper_Eternal\n",
       "746     2383     14688            Wizardman\n",
       "2297    2433     14209              Peridon"
      ]
     },
     "execution_count": 11,
     "metadata": {},
     "output_type": "execute_result"
    }
   ],
   "source": [
    "pd.DataFrame({'user': graphs[3].vs['label'],\n",
    "              'degree': graphs[3].degree(),\n",
    "              'strength': graphs[3].strength(weights='weight')}).sort('strength', ascending=False).head(10)"
   ]
  },
  {
   "cell_type": "code",
   "execution_count": 12,
   "metadata": {
    "collapsed": false
   },
   "outputs": [
    {
     "data": {
      "text/plain": [
       "<matplotlib.axes._subplots.AxesSubplot at 0x3a7ad978>"
      ]
     },
     "execution_count": 12,
     "metadata": {},
     "output_type": "execute_result"
    },
    {
     "data": {
      "image/png": "[encoded data removed]",
      "text/plain": [
       "<matplotlib.figure.Figure at 0x3a73ce10>"
      ]
     },
     "metadata": {},
     "output_type": "display_data"
    }
   ],
   "source": [
    "density_plot(graphs[3].strength(weights='weight'))"
   ]
  }
 ],
 "metadata": {
  "kernelspec": {
   "display_name": "Python 3",
   "language": "python",
   "name": "python3"
  },
  "language_info": {
   "codemirror_mode": {
    "name": "ipython",
    "version": 3
   },
   "file_extension": ".py",
   "mimetype": "text/x-python",
   "name": "python",
   "nbconvert_exporter": "python",
   "pygments_lexer": "ipython3",
   "version": "3.4.3"
  }
 },
 "nbformat": 4,
 "nbformat_minor": 0
}
