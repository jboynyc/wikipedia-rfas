{
 "cells": [
  {
   "cell_type": "code",
   "execution_count": 36,
   "metadata": {
    "collapsed": false
   },
   "outputs": [
    {
     "name": "stdout",
     "output_type": "stream",
     "text": [
      "Populating the interactive namespace from numpy and matplotlib\n"
     ]
    }
   ],
   "source": [
    "%pylab inline"
   ]
  },
  {
   "cell_type": "code",
   "execution_count": 37,
   "metadata": {
    "collapsed": true
   },
   "outputs": [],
   "source": [
    "import igraph as ig\n",
    "import pandas as pd"
   ]
  },
  {
   "cell_type": "code",
   "execution_count": 38,
   "metadata": {
    "collapsed": false
   },
   "outputs": [],
   "source": [
    "#%run get_archive.py\n",
    "#%run get_discussion_users.py\n",
    "#%run build_graphs.py"
   ]
  },
  {
   "cell_type": "code",
   "execution_count": 39,
   "metadata": {
    "collapsed": false
   },
   "outputs": [],
   "source": [
    "graphs = {}\n",
    "for year in range(2004, 2015):\n",
    "    graphs[year] = ig.read('rfas_ties_{}.graphml'.format(year))"
   ]
  },
  {
   "cell_type": "code",
   "execution_count": 40,
   "metadata": {
    "collapsed": false
   },
   "outputs": [
    {
     "name": "stdout",
     "output_type": "stream",
     "text": [
      "2004 \t 0.1425072972839262 \t 697\n",
      "2005 \t 0.10255577917721655 \t 1899\n",
      "2006 \t 0.0970195314505905 \t 3464\n",
      "2007 \t 0.08246907891784694 \t 3824\n",
      "2008 \t 0.11629418064218948 \t 3070\n",
      "2009 \t 0.15983933659427113 \t 2307\n",
      "2010 \t 0.19314479889483463 \t 1775\n",
      "2011 \t 0.22980655391120505 \t 1376\n",
      "2012 \t 0.24988681202385707 \t 1195\n",
      "2013 \t 0.27586363110915324 \t 1132\n",
      "2014 \t 0.2858486622073579 \t 897\n"
     ]
    }
   ],
   "source": [
    "for year in range(2004, 2015):\n",
    "    print(year, '\\t', \n",
    "          graphs[year].density(), '\\t',\n",
    "          len(graphs[year].vs))"
   ]
  },
  {
   "cell_type": "code",
   "execution_count": 41,
   "metadata": {
    "collapsed": false
   },
   "outputs": [],
   "source": [
    "def top_users(graph, n=10):\n",
    "    return pd.DataFrame({'user': graph.vs['label'],\n",
    "                         'pagerank': graph.pagerank()}).sort('pagerank', ascending=False).head(n)"
   ]
  },
  {
   "cell_type": "code",
   "execution_count": 42,
   "metadata": {
    "collapsed": false
   },
   "outputs": [
    {
     "name": "stdout",
     "output_type": "stream",
     "text": [
      "2005 2 {'Andrevan', 'Merovingian'}\n",
      "2006 1 {'Merovingian'}\n",
      "2007 3 {'Siva1979', 'Mailer_diablo', 'Xoloz'}\n",
      "2008 1 {'Acalamari'}\n",
      "2009 2 {'Malinaccier', 'Stifle'}\n",
      "2010 1 {'Fastily'}\n",
      "2011 3 {'Fastily', 'Ktr101', 'Fetchcomms'}\n",
      "2012 2 {'Ktr101', 'Axl'}\n",
      "2013 2 {'Axl', 'Secret'}\n",
      "2014 4 {'Kurtis', 'Miniapolis', 'Mr._Stradivarius', 'Secret'}\n"
     ]
    }
   ],
   "source": [
    "top_tens = defaultdict(set)\n",
    "for year in range(2004, 2015):\n",
    "    top_tens[year].update(top_users(graphs[year], 10)['user'])\n",
    "    if year-1 in top_tens:\n",
    "        intersection = top_tens[year].intersection(top_tens[year-1])\n",
    "        print(year, len(intersection), intersection)"
   ]
  },
  {
   "cell_type": "code",
   "execution_count": 43,
   "metadata": {
    "collapsed": false
   },
   "outputs": [
    {
     "name": "stdout",
     "output_type": "stream",
     "text": [
      "2005 2 {'Andrevan', 'Merovingian'}\n",
      "2006 3 {'Rogerd', 'Merovingian', 'Jayjg'}\n",
      "2007 4 {'Siva1979', 'Mailer_diablo', 'MONGO', 'Xoloz'}\n",
      "2008 5 {'Pedro', 'Siva1979', 'WJBscribe', 'Wizardman', 'Acalamari'}\n",
      "2009 5 {'Malinaccier', 'Lankiveil', 'Stifle', 'Wizardman', 'Pharaoh_of_the_Wizards'}\n",
      "2010 3 {'Fastily', 'WereSpielChequers', 'Pharaoh_of_the_Wizards'}\n",
      "2011 7 {'Minimac', 'Ktr101', 'Fetchcomms', 'Fastily', 'Boing!_said_Zebedee', 'Mkativerata', 'Secret'}\n",
      "2012 7 {'Ktr101', 'Kudpung', 'Axl', 'Boing!_said_Zebedee', 'Reaper_Eternal', 'Brookie', 'Secret'}\n",
      "2013 8 {'Kudpung', 'Axl', 'GiantSnowman', 'Dennis_Brown', 'Carrite', 'Tryptofish', 'Mr._Stradivarius', 'Secret'}\n",
      "2014 11 {'Kurtis', 'Secret', 'Axl', 'Inks.LWC', 'Mkdw', 'Hahc21', 'Stfg', 'Miniapolis', 'Tryptofish', 'Kraxler', 'Mr._Stradivarius'}\n"
     ]
    }
   ],
   "source": [
    "top_twenties = defaultdict(set)\n",
    "for year in range(2004, 2015):\n",
    "    top_twenties[year].update(top_users(graphs[year], 20)['user'])\n",
    "    if year-1 in top_twenties:\n",
    "        intersection = top_twenties[year].intersection(top_twenties[year-1])\n",
    "        print(year, len(intersection), intersection)"
   ]
  }
 ],
 "metadata": {
  "kernelspec": {
   "display_name": "Python 3",
   "language": "python",
   "name": "python3"
  },
  "language_info": {
   "codemirror_mode": {
    "name": "ipython",
    "version": 3
   },
   "file_extension": ".py",
   "mimetype": "text/x-python",
   "name": "python",
   "nbconvert_exporter": "python",
   "pygments_lexer": "ipython3",
   "version": "3.4.3"
  }
 },
 "nbformat": 4,
 "nbformat_minor": 0
}
