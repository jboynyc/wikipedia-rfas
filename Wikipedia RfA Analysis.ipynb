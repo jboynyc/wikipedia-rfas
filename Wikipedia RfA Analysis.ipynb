{
 "cells": [
  {
   "cell_type": "code",
   "execution_count": 1,
   "metadata": {
    "collapsed": false
   },
   "outputs": [
    {
     "name": "stdout",
     "output_type": "stream",
     "text": [
      "Populating the interactive namespace from numpy and matplotlib\n"
     ]
    }
   ],
   "source": [
    "%pylab inline"
   ]
  },
  {
   "cell_type": "code",
   "execution_count": 8,
   "metadata": {
    "collapsed": true
   },
   "outputs": [],
   "source": [
    "import igraph as ig\n",
    "import pandas as pd\n",
    "\n",
    "from collections import defaultdict"
   ]
  },
  {
   "cell_type": "code",
   "execution_count": 3,
   "metadata": {
    "collapsed": false
   },
   "outputs": [],
   "source": [
    "#%run get_archive.py\n",
    "#%run get_discussion_users.py\n",
    "#%run build_graphs.py"
   ]
  },
  {
   "cell_type": "code",
   "execution_count": 4,
   "metadata": {
    "collapsed": false
   },
   "outputs": [],
   "source": [
    "graphs = {}\n",
    "for year in range(2004, 2015):\n",
    "    graphs[year] = ig.read('rfas_ties_{}.graphml'.format(year))"
   ]
  },
  {
   "cell_type": "code",
   "execution_count": 5,
   "metadata": {
    "collapsed": false
   },
   "outputs": [
    {
     "name": "stdout",
     "output_type": "stream",
     "text": [
      "2004 \t 0.1425072972839262 \t 697\n",
      "2005 \t 0.10255577917721655 \t 1899\n",
      "2006 \t 0.0970195314505905 \t 3464\n",
      "2007 \t 0.08246907891784694 \t 3824\n",
      "2008 \t 0.11629418064218948 \t 3070\n",
      "2009 \t 0.15983933659427113 \t 2307\n",
      "2010 \t 0.19314479889483463 \t 1775\n",
      "2011 \t 0.22980655391120505 \t 1376\n",
      "2012 \t 0.24988681202385707 \t 1195\n",
      "2013 \t 0.27586363110915324 \t 1132\n",
      "2014 \t 0.2858486622073579 \t 897\n"
     ]
    }
   ],
   "source": [
    "for year in range(2004, 2015):\n",
    "    print(year, '\\t', \n",
    "          graphs[year].density(), '\\t',\n",
    "          len(graphs[year].vs))"
   ]
  },
  {
   "cell_type": "code",
   "execution_count": 6,
   "metadata": {
    "collapsed": false
   },
   "outputs": [],
   "source": [
    "def top_users(graph, n=10, centrality='pagerank'):\n",
    "    return pd.DataFrame({'user': graph.vs['label'],\n",
    "                         'centrality': getattr(graph, centrality)()}).sort('centrality', ascending=False).head(n)"
   ]
  },
  {
   "cell_type": "code",
   "execution_count": 9,
   "metadata": {
    "collapsed": false
   },
   "outputs": [
    {
     "name": "stdout",
     "output_type": "stream",
     "text": [
      "2005 2 {'Andrevan', 'Merovingian'}\n",
      "2006 1 {'Merovingian'}\n",
      "2007 3 {'Mailer_diablo', 'Xoloz', 'Siva1979'}\n",
      "2008 1 {'Acalamari'}\n",
      "2009 2 {'Stifle', 'Malinaccier'}\n",
      "2010 1 {'Fastily'}\n",
      "2011 3 {'Ktr101', 'Fastily', 'Fetchcomms'}\n",
      "2012 2 {'Axl', 'Ktr101'}\n",
      "2013 2 {'Axl', 'Secret'}\n",
      "2014 4 {'Mr._Stradivarius', 'Kurtis', 'Miniapolis', 'Secret'}\n"
     ]
    }
   ],
   "source": [
    "top_tens = defaultdict(set)\n",
    "for year in range(2004, 2015):\n",
    "    top_tens[year].update(top_users(graphs[year])['user'])\n",
    "    if year-1 in top_tens:\n",
    "        intersection = top_tens[year].intersection(top_tens[year-1])\n",
    "        print(year, len(intersection), intersection)"
   ]
  },
  {
   "cell_type": "code",
   "execution_count": 10,
   "metadata": {
    "collapsed": false
   },
   "outputs": [
    {
     "name": "stdout",
     "output_type": "stream",
     "text": [
      "2005 2 {'Andrevan', 'Merovingian'}\n",
      "2006 3 {'Jayjg', 'Rogerd', 'Merovingian'}\n",
      "2007 4 {'MONGO', 'Mailer_diablo', 'Xoloz', 'Siva1979'}\n",
      "2008 5 {'Wizardman', 'WJBscribe', 'Siva1979', 'Pedro', 'Acalamari'}\n",
      "2009 5 {'Lankiveil', 'Wizardman', 'Stifle', 'Pharaoh_of_the_Wizards', 'Malinaccier'}\n",
      "2010 3 {'WereSpielChequers', 'Fastily', 'Pharaoh_of_the_Wizards'}\n",
      "2011 7 {'Boing!_said_Zebedee', 'Minimac', 'Fetchcomms', 'Mkativerata', 'Fastily', 'Ktr101', 'Secret'}\n",
      "2012 7 {'Axl', 'Boing!_said_Zebedee', 'Kudpung', 'Brookie', 'Reaper_Eternal', 'Ktr101', 'Secret'}\n",
      "2013 8 {'Carrite', 'Axl', 'Kudpung', 'Tryptofish', 'Dennis_Brown', 'Mr._Stradivarius', 'GiantSnowman', 'Secret'}\n",
      "2014 11 {'Stfg', 'Axl', 'Miniapolis', 'Inks.LWC', 'Mr._Stradivarius', 'Hahc21', 'Tryptofish', 'Kraxler', 'Kurtis', 'Mkdw', 'Secret'}\n"
     ]
    }
   ],
   "source": [
    "top_twenties = defaultdict(set)\n",
    "for year in range(2004, 2015):\n",
    "    top_twenties[year].update(top_users(graphs[year], 20)['user'])\n",
    "    if year-1 in top_twenties:\n",
    "        intersection = top_twenties[year].intersection(top_twenties[year-1])\n",
    "        print(year, len(intersection), intersection)"
   ]
  },
  {
   "cell_type": "code",
   "execution_count": 14,
   "metadata": {
    "collapsed": false
   },
   "outputs": [
    {
     "name": "stdout",
     "output_type": "stream",
     "text": [
      "2004 \t {'172', 'Ugen64', 'Cribcage', 'Gzornenplatz', 'Blankfaze', 'Merovingian', 'Mirv', 'Jwrosenzweig', 'VeryVerily', 'Andrevan', 'Grunt', 'Cecropia', 'Danny', 'Everyking', 'Neutrality', 'Michael_Snow', 'Raul654', 'Slowking_Man', 'RickK', 'TUF-KAT'}\n",
      "2005 \t {'MPerel', 'The_wub', 'Rogerd', 'Merovingian', 'Sjakkalle', 'Rje', 'Jayjg', 'Journalist', 'Andrevan', 'El_C', 'BD2412', 'Antandrus', 'Radiant!', 'Mindspillage', 'SlimVirgin', 'Zzyzx11', 'Redwolf24', 'Private_Butcher', 'Juntung', 'Grutness'}\n",
      "2006 \t {'Bhadani', 'Rogerd', 'Tawker', 'Lar', 'Merovingian', 'Alex_Bakharev', 'Mailer_diablo', 'Jayjg', 'Siva1979', 'Terence_Ong', 'Sarah_Ewart', 'Xoloz', 'Jaranda', \"Rama's_Arrow\", 'Phaedriel', 'DarthVader', 'MONGO', 'Crzrussian', 'Khoikhoi', 'Naconkantari'}\n",
      "2007 \t {'Nishkid64', 'Wizardman', 'Majorly', 'Mailer_diablo', 'Jmlk17', 'Husond', 'Deskana', 'Siva1979', 'FayssalF', 'Xoloz', 'RyanGerbil10', 'The_Rambling_Man', 'Daniel', 'MONGO', 'Pedro', 'Neil', 'WJBscribe', 'Anas_Salloum', 'Acalamari', 'Captain_panda'}\n",
      "2008 \t {'MBisanz', 'Balloonman', 'Wizardman', 'Dlohcierekim', 'Stifle', 'Casliber', 'Useight', 'GlassCobra', 'Lankiveil', 'Wisdom89', 'Bearian', 'Siva1979', 'Pedro', 'Keeper76', 'Pharaoh_of_the_Wizards', 'Tiptoety', 'Spencer', 'WJBscribe', 'Malinaccier', 'Acalamari'}\n",
      "2009 \t {'NuclearWarfare', 'Juliancolton', 'Wizardman', 'Stifle', 'America69', 'Majorly', 'WereSpielChequers', 'IMatthew', 'Lankiveil', 'RegentsPark', 'SoWhy', 'Pastor_Theo', 'Little_Mountain_5', 'Master&Expert', 'Fastily', 'Pharaoh_of_the_Wizards', 'Ottava_Rima', 'A_Nobody', 'Giants27', 'Malinaccier'}\n",
      "2010 \t {'Ottawa4ever', 'White_Shadows', 'Secret', 'RP459', 'WereSpielChequers', 'Boing!_said_Zebedee', 'Fetchcomms', 'Ceranthor', 'Phantomsteve', 'Minimac', 'Doc_Quintana', 'Mkativerata', 'Fastily', 'Shadowjams', 'Pharaoh_of_the_Wizards', 'Airplaneman', 'NSD', 'Ktr101', 'HJ_Mitchell', 'Ret.Prof'}\n",
      "2011 \t {'Snottywong', 'Axl', 'Wizardman', 'Swarm', 'Ajraddatz', 'Boing!_said_Zebedee', 'Minimac', 'Fetchcomms', 'Kudpung', '28bytes', 'Courcelles', 'N5iln', 'Reaper_Eternal', 'Fastily', 'Mkativerata', 'Brookie', 'Ktr101', 'MC10', 'Hokeman', 'Secret'}\n",
      "2012 \t {'Achowat', 'Kiefer.Wolfowitz', 'Carrite', 'Axl', 'Cyberpower678', 'Boing!_said_Zebedee', 'My76Strat', 'Kudpung', 'Scottywong', 'Dennis_Brown', 'Tryptofish', 'Reaper_Eternal', 'Brookie', 'Pharaoh_of_the_Wizards', 'Lord_Roem', 'GiantSnowman', 'Mr._Stradivarius', 'Ktr101', 'Peridon', 'Secret'}\n",
      "2013 \t {'Rschen7754', 'Stfg', 'Carrite', 'Axl', 'Jebus989', 'Go_Phightins!', 'Miniapolis', 'Inks.LWC', 'Mr._Stradivarius', 'Kudpung', 'Hahc21', 'AutomaticStrikeout', 'Tryptofish', 'Kurtis', 'Kraxler', 'Mkdw', 'GiantSnowman', 'Dennis_Brown', 'Someguy1221', 'Secret'}\n",
      "2014 \t {'Stfg', 'Axl', 'Donner60', 'Miniapolis', 'Epicgenius', 'EuroCarGT', 'I_am_One_of_Many', 'Inks.LWC', 'Randykitty', 'Ronhjones', 'Mr._Stradivarius', 'Tryptofish', 'Kraxler', 'Hahc21', 'Kurtis', 'Mkdw', 'Davey2010', 'Ktr101', 'Peridon', 'Secret'}\n"
     ]
    }
   ],
   "source": [
    "for year, users in top_twenties.items():\n",
    "    print(year, '\\t', users)"
   ]
  },
  {
   "cell_type": "code",
   "execution_count": 15,
   "metadata": {
    "collapsed": true
   },
   "outputs": [],
   "source": [
    "top_twenties_closeness = defaultdict(set)\n",
    "for year in range(2004, 2015):\n",
    "    top_twenties_closeness[year].update(top_users(graphs[year], 20, 'closeness')['user'])"
   ]
  },
  {
   "cell_type": "code",
   "execution_count": 16,
   "metadata": {
    "collapsed": false
   },
   "outputs": [
    {
     "name": "stdout",
     "output_type": "stream",
     "text": [
      "2004 \t {'172', 'Ugen64', 'Cribcage', 'TheCustomOfLife', 'Blankfaze', 'Merovingian', 'Mirv', 'Jwrosenzweig', 'VeryVerily', 'Andrevan', 'Grunt', 'Cecropia', 'Danny', 'Everyking', 'Neutrality', 'Michael_Snow', 'Raul654', 'Slowking_Man', 'RickK', 'TUF-KAT'}\n",
      "2005 \t {'MPerel', 'Carbonite', 'Rogerd', 'Merovingian', 'Sjakkalle', 'Jayjg', 'Andrevan', 'Journalist', 'El_C', 'Antandrus', 'BD2412', 'Radiant!', 'Grue', 'SlimVirgin', 'Mindspillage', 'Redwolf24', 'Zzyzx11', 'Private_Butcher', 'Juntung', 'Grutness'}\n",
      "2006 \t {'Bhadani', 'Tawker', 'Lar', 'Merovingian', 'Alex_Bakharev', 'Mailer_diablo', 'Siva1979', 'Proto', 'Terence_Ong', 'Sarah_Ewart', 'Xoloz', 'Jaranda', \"Rama's_Arrow\", 'Grue', 'DarthVader', 'MONGO', 'Crzrussian', 'Khoikhoi', 'Jusjih', 'Naconkantari'}\n",
      "2007 \t {'Nishkid64', 'Wizardman', 'Majorly', 'Mailer_diablo', 'Jmlk17', 'Husond', 'Deskana', 'Siva1979', 'FayssalF', 'Xoloz', 'RyanGerbil10', 'The_Rambling_Man', 'Daniel', 'MONGO', 'Pedro', 'Newyorkbrad', 'WJBscribe', 'Anas_Salloum', 'Acalamari', 'Captain_panda'}\n",
      "2008 \t {'MBisanz', 'Balloonman', 'Ecoleetage', 'Wizardman', 'Dlohcierekim', 'Stifle', 'Casliber', 'Useight', 'GlassCobra', 'Lankiveil', 'Wisdom89', 'Bearian', 'Siva1979', 'Pedro', 'Keeper76', 'Tiptoety', 'Spencer', 'WJBscribe', 'Malinaccier', 'Acalamari'}\n",
      "2009 \t {'NuclearWarfare', 'Juliancolton', 'Wizardman', 'Stifle', 'America69', 'WereSpielChequers', 'IMatthew', 'Lankiveil', 'GlassCobra', 'SoWhy', 'Pastor_Theo', 'Little_Mountain_5', 'Fastily', 'Master&Expert', 'A_Nobody', 'Ottava_Rima', 'Mazca', 'Tanthalas39', 'Giants27', 'Malinaccier'}\n",
      "2010 \t {'Ottawa4ever', 'White_Shadows', 'Hokeman', 'RP459', 'Boing!_said_Zebedee', 'Soap', 'Fetchcomms', 'Ceranthor', 'Doc_Quintana', 'Phantomsteve', 'Minimac', 'Mkativerata', 'Fastily', 'Shadowjams', 'Master&Expert', 'Airplaneman', 'NSD', 'Ktr101', 'HJ_Mitchell', 'Ret.Prof'}\n",
      "2011 \t {'Snottywong', 'Axl', 'Wizardman', 'Swarm', 'Ajraddatz', 'Boing!_said_Zebedee', 'Fetchcomms', 'Minimac', 'Kudpung', '28bytes', 'Tryptofish', 'N5iln', 'Reaper_Eternal', 'Fastily', 'Mkativerata', 'Pedro', 'Ktr101', 'MC10', 'Hokeman', 'HJ_Mitchell'}\n",
      "2012 \t {'Achowat', 'Kiefer.Wolfowitz', 'Carrite', 'Axl', 'The_Blade_of_the_Northern_Lights', 'RP459', 'Boing!_said_Zebedee', 'My76Strat', 'Tryptofish', 'Scottywong', 'Dennis_Brown', 'Malleus_Fatuorum', 'Reaper_Eternal', 'Kudpung', 'Lord_Roem', 'TParis', 'GiantSnowman', 'Ktr101', 'Secret', 'GabeMc'}\n",
      "2013 \t {'Stfg', 'Carrite', 'Axl', 'Jebus989', 'Go_Phightins!', 'Miniapolis', 'Inks.LWC', 'Tryptofish', 'Hahc21', 'Dennis_Brown', 'AutomaticStrikeout', 'Mr._Stradivarius', 'Kurtis', 'Someguy1221', 'Kudpung', 'GiantSnowman', 'Sparklism', 'Jusdafax', 'MONGO', 'Secret'}\n",
      "2014 \t {'Stfg', 'Jianhui67', 'Axl', 'Donner60', 'Miniapolis', 'EuroCarGT', 'I_am_One_of_Many', 'Epicgenius', 'Randykitty', 'Tryptofish', 'Hahc21', 'Kraxler', 'Mr._Stradivarius', 'Kurtis', 'Davey2010', 'Mkdw', '78.26', 'Ktr101', 'Peridon', 'Secret'}\n"
     ]
    }
   ],
   "source": [
    "for year, users in top_twenties_closeness.items():\n",
    "    print(year, '\\t', users)"
   ]
  }
 ],
 "metadata": {
  "kernelspec": {
   "display_name": "Python 3",
   "language": "python",
   "name": "python3"
  },
  "language_info": {
   "codemirror_mode": {
    "name": "ipython",
    "version": 3
   },
   "file_extension": ".py",
   "mimetype": "text/x-python",
   "name": "python",
   "nbconvert_exporter": "python",
   "pygments_lexer": "ipython3",
   "version": "3.4.3"
  }
 },
 "nbformat": 4,
 "nbformat_minor": 0
}
